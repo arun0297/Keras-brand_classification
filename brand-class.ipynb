{
 "cells": [
  {
   "cell_type": "code",
   "execution_count": 47,
   "metadata": {},
   "outputs": [],
   "source": [
    "from __future__ import print_function\n",
    "import keras\n",
    "from keras.models import Sequential\n",
    "from keras.layers.core import Dense, Dropout, Activation, Flatten\n",
    "from keras.layers import Conv2D, MaxPooling2D\n",
    "from keras.optimizers import SGD,RMSprop,adam\n",
    "from keras.utils import np_utils\n",
    "from keras.preprocessing import image\n",
    "import scipy.misc\n",
    "\n",
    "import numpy as np\n",
    "import matplotlib.pyplot as plt\n",
    "import matplotlib\n",
    "import os\n",
    "from PIL import Image\n",
    "from numpy import *\n",
    "# SKLEARN\n",
    "from sklearn.utils import shuffle\n",
    "from sklearn.cross_validation import train_test_split"
   ]
  },
  {
   "cell_type": "code",
   "execution_count": 48,
   "metadata": {
    "collapsed": true
   },
   "outputs": [],
   "source": [
    "img_rows, img_cols = 200, 200\n",
    "img_channels = 1"
   ]
  },
  {
   "cell_type": "code",
   "execution_count": 49,
   "metadata": {
    "collapsed": true
   },
   "outputs": [],
   "source": [
    "path1 = '/home/arun/brand-recog-keras/input_data' \n",
    "path2 = '/home/arun/brand-recog-keras/input_data_resized'"
   ]
  },
  {
   "cell_type": "code",
   "execution_count": 50,
   "metadata": {},
   "outputs": [
    {
     "name": "stdout",
     "output_type": "stream",
     "text": [
      "280\n"
     ]
    }
   ],
   "source": [
    "listing = os.listdir(path1) \n",
    "num_samples=size(listing)\n",
    "print(num_samples)\n"
   ]
  },
  {
   "cell_type": "code",
   "execution_count": 51,
   "metadata": {
    "collapsed": true
   },
   "outputs": [],
   "source": [
    "for file in listing:\n",
    "    im = Image.open(path1 + '/' + file)   \n",
    "    img = im.resize((img_rows,img_cols))\n",
    "    gray = img.convert('L')\n",
    "                #need to do some more processing here           \n",
    "    gray.save(path2 +'/' +  file, \"JPEG\")\n",
    "\n"
   ]
  },
  {
   "cell_type": "code",
   "execution_count": 52,
   "metadata": {
    "collapsed": true
   },
   "outputs": [],
   "source": [
    "imlist = os.listdir(path2) #read new grayscale images"
   ]
  },
  {
   "cell_type": "code",
   "execution_count": 53,
   "metadata": {
    "collapsed": true
   },
   "outputs": [],
   "source": [
    "im1 = array(Image.open('input_data_resized' + '/'+ imlist[0])) # open one image to get size\n",
    "m,n = im1.shape[0:2] # get the size of the images\n",
    "imnbr = len(imlist) # get the number of images"
   ]
  },
  {
   "cell_type": "code",
   "execution_count": 54,
   "metadata": {},
   "outputs": [
    {
     "name": "stdout",
     "output_type": "stream",
     "text": [
      "200 200\n",
      "280\n"
     ]
    }
   ],
   "source": [
    "print(m,n)\n",
    "print(imnbr)"
   ]
  },
  {
   "cell_type": "code",
   "execution_count": 13,
   "metadata": {},
   "outputs": [
    {
     "name": "stdout",
     "output_type": "stream",
     "text": [
      "[[ 53  54  57 ..., 138 136 134]\n",
      " [ 54  55  57 ..., 143 141 139]\n",
      " [ 56  57  58 ..., 147 144 143]\n",
      " ..., \n",
      " [102 101 101 ..., 123 118 114]\n",
      " [ 97  98  99 ..., 119 117 115]\n",
      " [ 93  94  97 ..., 117 118 119]]\n"
     ]
    }
   ],
   "source": [
    "print(im1)"
   ]
  },
  {
   "cell_type": "code",
   "execution_count": 14,
   "metadata": {
    "collapsed": true
   },
   "outputs": [],
   "source": [
    "immatrix = array([array(Image.open('input_data_resized'+ '/' + im2)).flatten()\n",
    "              for im2 in imlist],'f')"
   ]
  },
  {
   "cell_type": "code",
   "execution_count": 15,
   "metadata": {},
   "outputs": [
    {
     "name": "stdout",
     "output_type": "stream",
     "text": [
      "280\n",
      "40000\n"
     ]
    }
   ],
   "source": [
    "print(immatrix.shape[0])\n",
    "print(immatrix.shape[1])"
   ]
  },
  {
   "cell_type": "code",
   "execution_count": 16,
   "metadata": {
    "collapsed": true
   },
   "outputs": [],
   "source": [
    "label=np.ones((num_samples,),dtype = int)"
   ]
  },
  {
   "cell_type": "code",
   "execution_count": 17,
   "metadata": {
    "collapsed": true
   },
   "outputs": [],
   "source": [
    "label[0:70]=0\n",
    "label[70:141]=1\n",
    "label[141:212]=2\n",
    "label[212:285]=3\n"
   ]
  },
  {
   "cell_type": "code",
   "execution_count": 18,
   "metadata": {
    "collapsed": true
   },
   "outputs": [],
   "source": [
    "data,Label = shuffle(immatrix,label, random_state=2)\n",
    "train_data = [data,Label]"
   ]
  },
  {
   "cell_type": "code",
   "execution_count": 19,
   "metadata": {},
   "outputs": [
    {
     "name": "stdout",
     "output_type": "stream",
     "text": [
      "[[ 136.  131.  128. ...,  126.  121.  108.]\n",
      " [  14.   14.   14. ...,    8.    8.   13.]\n",
      " [   9.    8.    7. ...,  132.  134.  120.]\n",
      " ..., \n",
      " [   4.    6.    8. ...,   13.   13.   13.]\n",
      " [  25.   11.    6. ...,   11.   11.   11.]\n",
      " [ 251.  239.  244. ...,  248.  255.  247.]]\n",
      "[0 0 0 0 0 0 0 0 0 0 0 0 0 0 0 0 0 0 0 0 0 0 0 0 0 0 0 0 0 0 0 0 0 0 0 0 0\n",
      " 0 0 0 0 0 0 0 0 0 0 0 0 0 0 0 0 0 0 0 0 0 0 0 0 0 0 0 0 0 0 0 0 0 1 1 1 1\n",
      " 1 1 1 1 1 1 1 1 1 1 1 1 1 1 1 1 1 1 1 1 1 1 1 1 1 1 1 1 1 1 1 1 1 1 1 1 1\n",
      " 1 1 1 1 1 1 1 1 1 1 1 1 1 1 1 1 1 1 1 1 1 1 1 1 1 1 1 1 1 1 2 2 2 2 2 2 2\n",
      " 2 2 2 2 2 2 2 2 2 2 2 2 2 2 2 2 2 2 2 2 2 2 2 2 2 2 2 2 2 2 2 2 2 2 2 2 2\n",
      " 2 2 2 2 2 2 2 2 2 2 2 2 2 2 2 2 2 2 2 2 2 2 2 2 2 2 2 3 3 3 3 3 3 3 3 3 3\n",
      " 3 3 3 3 3 3 3 3 3 3 3 3 3 3 3 3 3 3 3 3 3 3 3 3 3 3 3 3 3 3 3 3 3 3 3 3 3\n",
      " 3 3 3 3 3 3 3 3 3 3 3 3 3 3 3 3 3 3 3 3 3]\n",
      "[array([[ 136.,  131.,  128., ...,  126.,  121.,  108.],\n",
      "       [  14.,   14.,   14., ...,    8.,    8.,   13.],\n",
      "       [   9.,    8.,    7., ...,  132.,  134.,  120.],\n",
      "       ..., \n",
      "       [   4.,    6.,    8., ...,   13.,   13.,   13.],\n",
      "       [  25.,   11.,    6., ...,   11.,   11.,   11.],\n",
      "       [ 251.,  239.,  244., ...,  248.,  255.,  247.]], dtype=float32), array([2, 0, 1, 0, 1, 1, 1, 0, 3, 2, 2, 3, 0, 1, 1, 0, 3, 0, 2, 2, 1, 2, 3,\n",
      "       1, 1, 0, 1, 2, 1, 2, 0, 0, 0, 3, 2, 3, 1, 1, 0, 3, 2, 2, 1, 1, 3, 0,\n",
      "       1, 3, 3, 1, 1, 3, 1, 3, 3, 0, 0, 1, 2, 2, 2, 0, 3, 2, 3, 1, 2, 2, 0,\n",
      "       3, 1, 0, 0, 1, 3, 3, 0, 0, 3, 0, 3, 1, 0, 1, 2, 2, 2, 0, 2, 1, 0, 0,\n",
      "       0, 2, 3, 0, 2, 0, 1, 0, 3, 2, 2, 2, 2, 2, 3, 3, 2, 3, 1, 3, 1, 1, 2,\n",
      "       1, 1, 2, 0, 0, 3, 0, 2, 2, 3, 3, 2, 0, 0, 3, 0, 1, 2, 3, 3, 2, 2, 2,\n",
      "       0, 1, 1, 3, 2, 1, 0, 2, 3, 2, 0, 3, 2, 2, 1, 3, 3, 2, 1, 3, 3, 1, 3,\n",
      "       3, 2, 1, 1, 3, 3, 3, 3, 0, 1, 2, 0, 0, 0, 1, 3, 2, 3, 3, 3, 2, 2, 0,\n",
      "       0, 2, 2, 2, 3, 2, 1, 0, 0, 3, 3, 3, 1, 2, 1, 1, 2, 0, 1, 3, 0, 1, 0,\n",
      "       0, 3, 1, 1, 1, 0, 0, 0, 1, 1, 3, 0, 0, 0, 1, 1, 2, 3, 1, 1, 2, 1, 1,\n",
      "       2, 2, 3, 3, 2, 1, 2, 0, 0, 2, 0, 3, 1, 0, 2, 3, 0, 1, 2, 0, 1, 2, 3,\n",
      "       2, 0, 2, 1, 3, 0, 0, 0, 0, 3, 1, 2, 2, 1, 1, 3, 0, 3, 3, 1, 2, 3, 1,\n",
      "       0, 1, 0, 2])]\n"
     ]
    }
   ],
   "source": [
    "print(data)\n",
    "print(label)\n",
    "print(train_data)\n"
   ]
  },
  {
   "cell_type": "code",
   "execution_count": 20,
   "metadata": {},
   "outputs": [
    {
     "name": "stdout",
     "output_type": "stream",
     "text": [
      "(280, 40000)\n",
      "(280,)\n"
     ]
    }
   ],
   "source": [
    "print (train_data[0].shape)\n",
    "print (train_data[1].shape)"
   ]
  },
  {
   "cell_type": "code",
   "execution_count": 21,
   "metadata": {
    "collapsed": true
   },
   "outputs": [],
   "source": [
    "batch_size = 32\n",
    "nb_classes = 4\n",
    "nb_epoch = 10\n",
    "nb_filters = 32\n",
    "nb_pool = 2\n",
    "nb_conv = 3"
   ]
  },
  {
   "cell_type": "code",
   "execution_count": 22,
   "metadata": {},
   "outputs": [],
   "source": [
    "(X, y) = (train_data[0],train_data[1])\n",
    "X_train, X_test, y_train, y_test = train_test_split(X, y, test_size=0.2, random_state=4)"
   ]
  },
  {
   "cell_type": "code",
   "execution_count": 23,
   "metadata": {
    "collapsed": true
   },
   "outputs": [],
   "source": [
    "if keras.backend.image_data_format() == 'channels_first':\n",
    "    X_train = X_train.reshape(X_train.shape[0], 1, img_rows, img_cols)\n",
    "    X_test = X_test.reshape(X_test.shape[0], 1, img_rows, img_cols)\n",
    "    input_shape = (1, img_rows, img_cols)\n",
    "else:\n",
    "    X_train = X_train.reshape(X_train.shape[0], img_rows, img_cols, 1)\n",
    "    X_test = X_test.reshape(X_test.shape[0], img_rows, img_cols, 1)\n",
    "    input_shape = (img_rows, img_cols, 1)"
   ]
  },
  {
   "cell_type": "code",
   "execution_count": 24,
   "metadata": {},
   "outputs": [
    {
     "name": "stdout",
     "output_type": "stream",
     "text": [
      "X_train shape: (224, 200, 200, 1)\n",
      "224 train samples\n",
      "56 test samples\n"
     ]
    }
   ],
   "source": [
    "X_train = X_train.astype('float32')\n",
    "X_test = X_test.astype('float32')\n",
    "X_train /= 255\n",
    "X_test /= 255\n",
    "print('X_train shape:', X_train.shape)\n",
    "print(X_train.shape[0], 'train samples')\n",
    "print(X_test.shape[0], 'test samples')"
   ]
  },
  {
   "cell_type": "code",
   "execution_count": 25,
   "metadata": {
    "collapsed": true
   },
   "outputs": [],
   "source": [
    "y_train = keras.utils.to_categorical(y_train, nb_classes)\n",
    "y_test = keras.utils.to_categorical(y_test, nb_classes)"
   ]
  },
  {
   "cell_type": "code",
   "execution_count": 36,
   "metadata": {},
   "outputs": [
    {
     "name": "stdout",
     "output_type": "stream",
     "text": [
      "224\n",
      "4\n",
      "56\n",
      "4\n"
     ]
    }
   ],
   "source": [
    "print(y_train.shape[0])\n",
    "print(y_train.shape[1])\n",
    "print(y_test.shape[0])\n",
    "print(y_test.shape[1])"
   ]
  },
  {
   "cell_type": "code",
   "execution_count": 27,
   "metadata": {},
   "outputs": [
    {
     "name": "stdout",
     "output_type": "stream",
     "text": [
      "label :  [ 0.  1.  0.  0.]\n"
     ]
    }
   ],
   "source": [
    "i = 100\n",
    "plt.imshow(X_train[i, 0], interpolation='nearest')\n",
    "print(\"label : \", y_train[i,:])"
   ]
  },
  {
   "cell_type": "code",
   "execution_count": 44,
   "metadata": {},
   "outputs": [],
   "source": [
    "model = Sequential()\n",
    "model.add(Conv2D(32, kernel_size=(3, 3),\n",
    "                 activation='relu',\n",
    "                 input_shape=input_shape))\n",
    "model.add(Conv2D(64, (3, 3), activation='relu'))\n",
    "model.add(MaxPooling2D(pool_size=(2, 2)))\n",
    "model.add(Conv2D(64, (3, 3), activation='relu'))\n",
    "model.add(MaxPooling2D(pool_size=(2, 2)))\n",
    "model.add(Conv2D(64, (3, 3), activation='relu'))\n",
    "model.add(MaxPooling2D(pool_size=(2, 2)))\n",
    "model.add(Dropout(0.25))\n",
    "model.add(Flatten())\n",
    "model.add(Dense(128, activation='relu'))\n",
    "model.add(Dropout(0.5))\n",
    "model.add(Dense(nb_classes, activation='softmax'))"
   ]
  },
  {
   "cell_type": "code",
   "execution_count": 45,
   "metadata": {
    "collapsed": true
   },
   "outputs": [],
   "source": [
    "model.compile(loss=keras.losses.categorical_crossentropy,\n",
    "              optimizer=keras.optimizers.Adadelta(),\n",
    "              metrics=['accuracy'])"
   ]
  },
  {
   "cell_type": "code",
   "execution_count": 46,
   "metadata": {},
   "outputs": [
    {
     "name": "stdout",
     "output_type": "stream",
     "text": [
      "Train on 224 samples, validate on 56 samples\n",
      "Epoch 1/15\n",
      "224/224 [==============================] - 68s - loss: 1.4108 - acc: 0.2545 - val_loss: 1.3885 - val_acc: 0.1786\n",
      "Epoch 2/15\n",
      "224/224 [==============================] - 73s - loss: 1.3836 - acc: 0.2634 - val_loss: 1.3911 - val_acc: 0.2321\n",
      "Epoch 3/15\n",
      "224/224 [==============================] - 73s - loss: 1.3775 - acc: 0.2902 - val_loss: 1.4065 - val_acc: 0.2500\n",
      "Epoch 4/15\n",
      "224/224 [==============================] - 75s - loss: 1.3851 - acc: 0.2768 - val_loss: 1.3907 - val_acc: 0.2143\n",
      "Epoch 5/15\n",
      "224/224 [==============================] - 82s - loss: 1.3675 - acc: 0.3393 - val_loss: 1.3886 - val_acc: 0.3036\n",
      "Epoch 6/15\n",
      "224/224 [==============================] - 86s - loss: 1.3580 - acc: 0.3661 - val_loss: 1.3866 - val_acc: 0.2500\n",
      "Epoch 7/15\n",
      "224/224 [==============================] - 79s - loss: 1.3356 - acc: 0.3571 - val_loss: 1.4699 - val_acc: 0.2321\n",
      "Epoch 8/15\n",
      "224/224 [==============================] - 83s - loss: 1.3452 - acc: 0.3795 - val_loss: 1.4015 - val_acc: 0.2500\n",
      "Epoch 9/15\n",
      "224/224 [==============================] - 77s - loss: 1.2631 - acc: 0.4241 - val_loss: 1.4984 - val_acc: 0.2143\n",
      "Epoch 10/15\n",
      "224/224 [==============================] - 87s - loss: 1.2000 - acc: 0.5089 - val_loss: 1.4427 - val_acc: 0.1964\n",
      "Epoch 11/15\n",
      "224/224 [==============================] - 95s - loss: 1.1381 - acc: 0.5357 - val_loss: 1.4937 - val_acc: 0.1786\n",
      "Epoch 12/15\n",
      "224/224 [==============================] - 90s - loss: 1.0398 - acc: 0.6295 - val_loss: 1.4366 - val_acc: 0.2679\n",
      "Epoch 13/15\n",
      "224/224 [==============================] - 85s - loss: 0.8444 - acc: 0.7143 - val_loss: 2.7009 - val_acc: 0.2143\n",
      "Epoch 14/15\n",
      "224/224 [==============================] - 90s - loss: 0.8426 - acc: 0.6920 - val_loss: 1.6501 - val_acc: 0.2321\n",
      "Epoch 15/15\n",
      "224/224 [==============================] - 90s - loss: 0.6177 - acc: 0.7768 - val_loss: 2.2216 - val_acc: 0.2143\n",
      "Test loss: 2.22160077095\n",
      "Test accuracy: 0.214285712157\n"
     ]
    }
   ],
   "source": [
    "model.fit(X_train, y_train,\n",
    "          batch_size=32,\n",
    "          epochs=15,\n",
    "          verbose=1,\n",
    "          validation_data=(X_test, y_test))\n",
    "score = model.evaluate(X_test, y_test, verbose=0)\n",
    "print('Test loss:', score[0])\n",
    "print('Test accuracy:', score[1])"
   ]
  },
  {
   "cell_type": "code",
   "execution_count": 31,
   "metadata": {},
   "outputs": [
    {
     "name": "stdout",
     "output_type": "stream",
     "text": [
      "_________________________________________________________________\n",
      "Layer (type)                 Output Shape              Param #   \n",
      "=================================================================\n",
      "conv2d_1 (Conv2D)            (None, 198, 198, 32)      320       \n",
      "_________________________________________________________________\n",
      "conv2d_2 (Conv2D)            (None, 196, 196, 64)      18496     \n",
      "_________________________________________________________________\n",
      "max_pooling2d_1 (MaxPooling2 (None, 98, 98, 64)        0         \n",
      "_________________________________________________________________\n",
      "dropout_1 (Dropout)          (None, 98, 98, 64)        0         \n",
      "_________________________________________________________________\n",
      "flatten_1 (Flatten)          (None, 614656)            0         \n",
      "_________________________________________________________________\n",
      "dense_1 (Dense)              (None, 128)               78676096  \n",
      "_________________________________________________________________\n",
      "dropout_2 (Dropout)          (None, 128)               0         \n",
      "_________________________________________________________________\n",
      "dense_2 (Dense)              (None, 4)                 516       \n",
      "=================================================================\n",
      "Total params: 78,695,428\n",
      "Trainable params: 78,695,428\n",
      "Non-trainable params: 0\n",
      "_________________________________________________________________\n"
     ]
    }
   ],
   "source": [
    "model.summary()"
   ]
  },
  {
   "cell_type": "code",
   "execution_count": 34,
   "metadata": {},
   "outputs": [
    {
     "name": "stdout",
     "output_type": "stream",
     "text": [
      "Predicted: [[  9.76696390e-10   0.00000000e+00   0.00000000e+00   1.00000000e+00]]\n"
     ]
    },
    {
     "name": "stderr",
     "output_type": "stream",
     "text": [
      "/usr/lib/python3/dist-packages/PIL/Image.py:869: UserWarning: Palette images with Transparency   expressed in bytes should be converted to RGBA images\n",
      "  'to RGBA images')\n"
     ]
    }
   ],
   "source": [
    "img_path = 'test0.png'\n",
    "img = image.load_img(img_path, target_size=(200,200,),grayscale=True)\n",
    "scipy.misc.imresize(img, (200, 200))\n",
    "x = image.img_to_array(img)\n",
    "x = np.expand_dims(x, axis=0)\n",
    "result = model.predict(x)\n",
    "print('Predicted:', result)"
   ]
  },
  {
   "cell_type": "code",
   "execution_count": null,
   "metadata": {
    "collapsed": true
   },
   "outputs": [],
   "source": []
  }
 ],
 "metadata": {
  "kernelspec": {
   "display_name": "Python 3",
   "language": "python",
   "name": "python3"
  },
  "language_info": {
   "codemirror_mode": {
    "name": "ipython",
    "version": 3
   },
   "file_extension": ".py",
   "mimetype": "text/x-python",
   "name": "python",
   "nbconvert_exporter": "python",
   "pygments_lexer": "ipython3",
   "version": "3.5.2+"
  }
 },
 "nbformat": 4,
 "nbformat_minor": 2
}
